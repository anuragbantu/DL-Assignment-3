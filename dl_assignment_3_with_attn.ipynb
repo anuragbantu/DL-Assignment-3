{
  "cells": [
    {
      "cell_type": "markdown",
      "metadata": {
        "id": "view-in-github",
        "colab_type": "text"
      },
      "source": [
        "<a href=\"https://colab.research.google.com/github/anuragbantu/DL-Assignment-3/blob/main/dl_assignment_3_with_attn.ipynb\" target=\"_parent\"><img src=\"https://colab.research.google.com/assets/colab-badge.svg\" alt=\"Open In Colab\"/></a>"
      ]
    },
    {
      "cell_type": "code",
      "execution_count": 1,
      "metadata": {
        "colab": {
          "base_uri": "https://localhost:8080/"
        },
        "id": "D8yq3NWmaJHZ",
        "outputId": "c983d84d-0b93-4a18-cff3-889d93ba9927"
      },
      "outputs": [
        {
          "output_type": "stream",
          "name": "stdout",
          "text": [
            "Mounted at /content/drive\n"
          ]
        }
      ],
      "source": [
        "from google.colab import drive\n",
        "drive.mount('/content/drive')"
      ]
    },
    {
      "cell_type": "code",
      "execution_count": 2,
      "metadata": {
        "colab": {
          "base_uri": "https://localhost:8080/"
        },
        "id": "WYygEaaDZn4i",
        "outputId": "95163a7b-8e92-408a-d6e3-068101e93ab7"
      },
      "outputs": [
        {
          "output_type": "stream",
          "name": "stderr",
          "text": [
            "<ipython-input-2-1975f00426f6>:19: SettingWithCopyWarning: \n",
            "A value is trying to be set on a copy of a slice from a DataFrame.\n",
            "Try using .loc[row_indexer,col_indexer] = value instead\n",
            "\n",
            "See the caveats in the documentation: https://pandas.pydata.org/pandas-docs/stable/user_guide/indexing.html#returning-a-view-versus-a-copy\n",
            "  train_df[\"source\"] = train_df[\"source\"].astype(str)\n",
            "<ipython-input-2-1975f00426f6>:20: SettingWithCopyWarning: \n",
            "A value is trying to be set on a copy of a slice from a DataFrame.\n",
            "Try using .loc[row_indexer,col_indexer] = value instead\n",
            "\n",
            "See the caveats in the documentation: https://pandas.pydata.org/pandas-docs/stable/user_guide/indexing.html#returning-a-view-versus-a-copy\n",
            "  train_df[\"target\"] = train_df[\"target\"].astype(str)\n"
          ]
        }
      ],
      "source": [
        "import pandas as pd\n",
        "\n",
        "# Load data\n",
        "train_df = pd.read_csv(\"/content/drive/MyDrive/lexicons/te.translit.sampled.train.tsv\", sep=\"\\t\", header=None)\n",
        "train_df.columns = [\"target\", \"source\", \"label\"]\n",
        "#pairs = list(zip(train_df[\"source\"], train_df[\"target\"]))  # Latin to Devanagari\n",
        "\n",
        "# Preview\n",
        "\n",
        "val_df = pd.read_csv(\"/content/drive/MyDrive/lexicons/te.translit.sampled.dev.tsv\", sep=\"\\t\", header=None)\n",
        "val_df.columns = [\"target\", \"source\", \"label\"]\n",
        "#val_pairs = list(zip(val_df[\"source\"], val_df[\"target\"]))\n",
        "\n",
        "# Drop any rows where source or target is missing\n",
        "train_df = train_df.dropna(subset=[\"source\", \"target\"])\n",
        "val_df = val_df.dropna(subset=[\"source\", \"target\"])\n",
        "\n",
        "# Ensure source and target are strings\n",
        "train_df[\"source\"] = train_df[\"source\"].astype(str)\n",
        "train_df[\"target\"] = train_df[\"target\"].astype(str)\n",
        "val_df[\"source\"] = val_df[\"source\"].astype(str)\n",
        "val_df[\"target\"] = val_df[\"target\"].astype(str)\n",
        "\n",
        "# Create pairs\n",
        "pairs = list(zip(train_df[\"source\"], train_df[\"target\"]))\n",
        "val_pairs = list(zip(val_df[\"source\"], val_df[\"target\"]))"
      ]
    },
    {
      "cell_type": "code",
      "execution_count": 3,
      "metadata": {
        "colab": {
          "base_uri": "https://localhost:8080/"
        },
        "id": "aV8L61omZn4j",
        "outputId": "fc52c70e-1dd5-4aea-db5b-feede0f7a877"
      },
      "outputs": [
        {
          "output_type": "stream",
          "name": "stdout",
          "text": [
            "5683\n"
          ]
        }
      ],
      "source": [
        "print(len(val_pairs))"
      ]
    },
    {
      "cell_type": "code",
      "execution_count": 4,
      "metadata": {
        "id": "Slke39A0Zn4k"
      },
      "outputs": [],
      "source": [
        "import random\n",
        "\n",
        "sample_size = 10000\n",
        "pairs = random.sample(pairs, sample_size)    # use only 2000 training samples\n",
        "#val_pairs = random.sample(val_pairs, sample_size)"
      ]
    },
    {
      "cell_type": "code",
      "execution_count": 5,
      "metadata": {
        "id": "hihFH0TDZn4k"
      },
      "outputs": [],
      "source": [
        "import torch\n",
        "import torch.nn as nn\n",
        "import torch.optim as optim\n"
      ]
    },
    {
      "cell_type": "code",
      "execution_count": 6,
      "metadata": {
        "id": "L4G97ALdZn4l"
      },
      "outputs": [],
      "source": [
        "#pairs = list(zip(df[\"source\"], df[\"target\"]))\n",
        "\n",
        "#pairs = [\n",
        " #   (\"namaste\", \"नमस्ते\"),\n",
        "  #  (\"bharat\",  \"भारत\"),\n",
        "   # (\"duniya\",  \"दुनिया\"),\n",
        "    #(\"prem\",    \"प्रेम\"),\n",
        "#]\n"
      ]
    },
    {
      "cell_type": "code",
      "execution_count": 7,
      "metadata": {
        "id": "OkJrYcTKZn4m"
      },
      "outputs": [],
      "source": [
        "SRC_CHARS = set(\"\".join(s for s, _ in pairs))\n",
        "TRG_CHARS = set(\"\".join(t for _, t in pairs)) | {\"<sos>\", \"<eos>\"}\n",
        "\n",
        "src2idx = {ch: i+1 for i, ch in enumerate(sorted(SRC_CHARS))}  # reserve 0 for padding\n",
        "src2idx[\"<pad>\"] = 0\n",
        "trg2idx = {ch: i+1 for i, ch in enumerate(sorted(TRG_CHARS))}\n",
        "trg2idx[\"<pad>\"] = 0\n",
        "\n",
        "idx2trg = {i: ch for ch, i in trg2idx.items()}\n"
      ]
    },
    {
      "cell_type": "code",
      "execution_count": 8,
      "metadata": {
        "id": "p5r0EeZCZn4m"
      },
      "outputs": [],
      "source": [
        "import torch\n",
        "import torch.nn as nn\n",
        "\n",
        "# === RNN Cell Wrapper === #\n",
        "def get_rnn_cell(cell_type):\n",
        "    cell_type = cell_type.upper()\n",
        "    if cell_type == \"GRU\":\n",
        "        return nn.GRU\n",
        "    elif cell_type == \"LSTM\":\n",
        "        return nn.LSTM\n",
        "    elif cell_type == \"RNN\":\n",
        "        return nn.RNN\n",
        "    else:\n",
        "        raise ValueError(\"Unsupported RNN cell type. Use 'RNN', 'GRU', or 'LSTM'.\")\n",
        "\n",
        "# === Encoder === #\n",
        "class Encoder(nn.Module):\n",
        "    def __init__(self, input_dim, emb_dim, hidden_dim, cell_type=\"GRU\", dropout=0.0):\n",
        "        super().__init__()\n",
        "        self.embedding = nn.Embedding(input_dim, emb_dim, padding_idx=0)\n",
        "        self.rnn = get_rnn_cell(cell_type)(emb_dim, hidden_dim, batch_first=False)\n",
        "        self.dropout = nn.Dropout(dropout)\n",
        "\n",
        "    def forward(self, src):\n",
        "        embedded = self.dropout(self.embedding(src))  # [src_len, 1, emb_dim]\n",
        "        outputs, hidden = self.rnn(embedded)  # outputs: [src_len, 1, hidden_dim]\n",
        "        return outputs, hidden\n",
        "\n",
        "class Attention(nn.Module):\n",
        "    def __init__(self, hidden_dim):\n",
        "        super().__init__()\n",
        "        self.attn = nn.Linear(hidden_dim * 2, hidden_dim)\n",
        "        self.v = nn.Parameter(torch.rand(hidden_dim))\n",
        "\n",
        "    def forward(self, hidden, encoder_outputs):\n",
        "        # Handle LSTM or GRU hidden state\n",
        "        if isinstance(hidden, tuple):  # LSTM: (h, c)\n",
        "            hidden = hidden[0]  # use only h_n for attention\n",
        "\n",
        "        src_len = encoder_outputs.size(0)\n",
        "        hidden = hidden.repeat(src_len, 1, 1)  # [src_len, batch, hidden_dim]\n",
        "\n",
        "        energy = torch.tanh(self.attn(torch.cat((hidden, encoder_outputs), dim=2)))  # [src_len, batch, hidden_dim]\n",
        "        energy = energy.squeeze(1)  # [src_len, hidden_dim]\n",
        "        v = self.v.repeat(src_len, 1)\n",
        "        scores = torch.sum(v * energy, dim=1)  # [src_len]\n",
        "        return torch.softmax(scores, dim=0).unsqueeze(1)  # [src_len, 1]\n",
        "\n",
        "class AttnDecoder(nn.Module):\n",
        "    def __init__(self, output_dim, emb_dim, hidden_dim, cell_type=\"GRU\", dropout=0.1):\n",
        "        super().__init__()\n",
        "        self.embedding = nn.Embedding(output_dim, emb_dim, padding_idx=0)\n",
        "        self.rnn = get_rnn_cell(cell_type)(emb_dim + hidden_dim, hidden_dim)\n",
        "        self.fc_out = nn.Linear(hidden_dim * 2, output_dim)\n",
        "        self.attention = Attention(hidden_dim)\n",
        "        self.dropout = nn.Dropout(dropout)\n",
        "\n",
        "    def forward(self, input_step, hidden, encoder_outputs):\n",
        "        # input_step: [1, 1], hidden: [1, 1, hidden_dim], encoder_outputs: [src_len, 1, hidden_dim]\n",
        "        embedded = self.dropout(self.embedding(input_step))  # [1, 1, emb_dim]\n",
        "\n",
        "        # Compute attention weights and context\n",
        "        attn_weights = self.attention(hidden, encoder_outputs)  # [src_len, 1]\n",
        "        attn_weights = attn_weights.permute(1, 0)  # [1, src_len]\n",
        "\n",
        "        # encoder_outputs: [src_len, 1, hidden_dim] → [1, src_len, hidden_dim]\n",
        "        encoder_outputs = encoder_outputs.permute(1, 0, 2)\n",
        "\n",
        "        # context: [1, 1, hidden_dim]\n",
        "        context = torch.bmm(attn_weights.unsqueeze(1), encoder_outputs)  # [1, 1, hidden_dim]\n",
        "\n",
        "        # Combine embedding and context\n",
        "        rnn_input = torch.cat((embedded, context), dim=2)  # [1, 1, emb_dim + hidden_dim]\n",
        "        output, hidden = self.rnn(rnn_input, hidden)  # same shape\n",
        "        output = output.squeeze(0)\n",
        "        context = context.squeeze(0)\n",
        "        pred = self.fc_out(torch.cat((output, context), dim=1))  # [1, output_dim]\n",
        "        return pred, hidden\n",
        "\n",
        "\n",
        "\n",
        "# === Decoder === #\n",
        "class Decoder(nn.Module):\n",
        "    def __init__(self, output_dim, emb_dim, hidden_dim, cell_type=\"GRU\", num_layers=1, dropout=0.0):\n",
        "        super().__init__()\n",
        "        self.embedding = nn.Embedding(output_dim, emb_dim, padding_idx=0)\n",
        "        self.rnn = get_rnn_cell(cell_type)(\n",
        "            emb_dim, hidden_dim, num_layers, dropout=dropout if num_layers > 1 else 0.0\n",
        "        )\n",
        "        self.out = nn.Linear(hidden_dim, output_dim)\n",
        "        self.dropout = nn.Dropout(dropout)\n",
        "\n",
        "    def forward(self, input_step, hidden):\n",
        "        embedded = self.embedding(input_step)  # [1, 1, emb_dim]\n",
        "        output, hidden = self.rnn(embedded, hidden)\n",
        "        output = self.dropout(output.squeeze(0))  # Apply dropout to RNN output\n",
        "        prediction = self.out(output)             # [1, output_dim]\n",
        "        return prediction, hidden\n",
        "\n",
        "# === Seq2Seq Wrapper === #\n",
        "class AttnSeq2Seq(nn.Module):\n",
        "    def __init__(self, encoder, decoder, device, sos_idx):\n",
        "        super().__init__()\n",
        "        self.encoder = encoder\n",
        "        self.decoder = decoder\n",
        "        self.device = device\n",
        "        self.sos_idx = sos_idx\n",
        "\n",
        "    def forward(self, src, trg, teacher_forcing_ratio=0.5):\n",
        "        trg_len = trg.shape[0]\n",
        "        output_dim = self.decoder.fc_out.out_features\n",
        "        outputs = torch.zeros(trg_len, 1, output_dim).to(self.device)\n",
        "\n",
        "        encoder_outputs, hidden = self.encoder(src)\n",
        "\n",
        "        input_step = torch.tensor([[self.sos_idx]], device=self.device)\n",
        "\n",
        "        for t in range(trg_len):\n",
        "            output, hidden = self.decoder(input_step, hidden, encoder_outputs)\n",
        "            outputs[t] = output\n",
        "            teacher_force = torch.rand(1).item() < teacher_forcing_ratio\n",
        "            top1 = output.argmax(1).unsqueeze(0)\n",
        "            input_step = trg[t].unsqueeze(0) if teacher_force else top1\n",
        "\n",
        "        return outputs\n",
        "\n",
        "    def adjust_hidden_for_decoder(self, hidden, target_layers):\n",
        "        \"\"\"\n",
        "        Adjust the encoder's hidden state to match the number of decoder layers.\n",
        "        Pads if encoder has fewer layers, trims if more.\n",
        "        Works for GRU/RNN (tensor) and LSTM (tuple).\n",
        "        \"\"\"\n",
        "        if isinstance(hidden, tuple):  # LSTM\n",
        "            h, c = hidden\n",
        "            h = self._match_layers(h, target_layers)\n",
        "            c = self._match_layers(c, target_layers)\n",
        "            return (h, c)\n",
        "        else:  # GRU or RNN\n",
        "            return self._match_layers(hidden, target_layers)\n",
        "\n",
        "    def _match_layers(self, state, target_layers):\n",
        "        \"\"\"\n",
        "        Pad or trim the hidden state tensor to match target number of layers.\n",
        "        \"\"\"\n",
        "        current_layers = state.size(0)\n",
        "        if current_layers == target_layers:\n",
        "            return state\n",
        "        elif current_layers < target_layers:\n",
        "            diff = target_layers - current_layers\n",
        "            pad = torch.zeros(diff, state.size(1), state.size(2), device=state.device)\n",
        "            return torch.cat([state, pad], dim=0)\n",
        "        else:  # current_layers > target_layers\n",
        "            return state[:target_layers]\n"
      ]
    },
    {
      "cell_type": "code",
      "execution_count": 9,
      "metadata": {
        "id": "OyE3KGfrZn4o"
      },
      "outputs": [],
      "source": [
        "emb_dim = 64\n",
        "hidden_dim = 128\n",
        "cell_type = \"RNN\"  # or \"GRU\", \"RNN\"\n",
        "num_layers = 2\n"
      ]
    },
    {
      "cell_type": "code",
      "execution_count": 10,
      "metadata": {
        "id": "JrtYrutjZn4o"
      },
      "outputs": [],
      "source": [
        "DEVICE = torch.device(\"cuda\" if torch.cuda.is_available() else \"cpu\")\n"
      ]
    },
    {
      "cell_type": "code",
      "execution_count": 11,
      "metadata": {
        "colab": {
          "base_uri": "https://localhost:8080/",
          "height": 123
        },
        "id": "oMPEbwiLZn4o",
        "outputId": "57f9123b-bd18-46e2-83f3-566b24fbef79"
      },
      "outputs": [
        {
          "output_type": "execute_result",
          "data": {
            "text/plain": [
              "'\\nfor epoch in range(1, 6):\\n    model.train()\\n    epoch_loss = 0\\n    train_correct = 0\\n    train_total = 0\\n\\n    for src_word, trg_word in pairs:\\n        src_tensor = tensor_from_word(src_word, src2idx)\\n        trg_tensor = tensor_from_word(trg_word, trg2idx, add_eos=True)\\n\\n        optimizer.zero_grad()\\n        output = model(src_tensor, trg_tensor)\\n        output_dim = output.shape[-1]\\n        loss = criterion(output.view(-1, output_dim), trg_tensor.view(-1))\\n        loss.backward()\\n        optimizer.step()\\n        epoch_loss += loss.item()\\n\\n        # Training accuracy\\n        pred_tokens = output.argmax(-1).view(-1)\\n        true_tokens = trg_tensor.view(-1)\\n        mask = true_tokens != trg2idx[\"<pad>\"]\\n        correct = (pred_tokens == true_tokens) & mask\\n        train_correct += correct.sum().item()\\n        train_total += mask.sum().item()\\n\\n    # Validation\\n    model.eval()\\n    val_loss = 0\\n    val_correct = 0\\n    val_total = 0\\n    with torch.no_grad():\\n        for src_word, trg_word in val_pairs:\\n            src_tensor = tensor_from_word(src_word, src2idx)\\n            trg_tensor = tensor_from_word(trg_word, trg2idx, add_eos=True)\\n            output = model(src_tensor, trg_tensor)\\n            loss = criterion(output.view(-1, output.shape[-1]), trg_tensor.view(-1))\\n            val_loss += loss.item()\\n\\n            pred_tokens = output.argmax(-1).view(-1)\\n            true_tokens = trg_tensor.view(-1)\\n            mask = true_tokens != trg2idx[\"<pad>\"]\\n            correct = (pred_tokens == true_tokens) & mask\\n            val_correct += correct.sum().item()\\n            val_total += mask.sum().item()\\n\\n    train_acc = train_correct / train_total\\n    val_acc = val_correct / val_total\\n    print(f\"Epoch {epoch:3d} | Train Loss: {epoch_loss/len(pairs):.4f} | \"\\n          f\"Train Acc: {train_acc:.4f} | Val Loss: {val_loss/len(val_pairs):.4f} | Val Acc: {val_acc:.4f}\")\\n\\n'"
            ],
            "application/vnd.google.colaboratory.intrinsic+json": {
              "type": "string"
            }
          },
          "metadata": {},
          "execution_count": 11
        }
      ],
      "source": [
        "'''\n",
        "import torch.optim as optim\n",
        "\n",
        "encoder = Encoder(len(src2idx), emb_dim, hidden_dim, cell_type, num_layers)\n",
        "decoder = Decoder(len(trg2idx), emb_dim, hidden_dim, cell_type, num_layers)\n",
        "sos_idx = trg2idx[\"<sos>\"]\n",
        "model = Seq2Seq(encoder, decoder, DEVICE, sos_idx).to(DEVICE)\n",
        "\n",
        "optimizer = optim.Adam(model.parameters(), lr=0.001)\n",
        "criterion = nn.CrossEntropyLoss(ignore_index=trg2idx[\"<pad>\"])\n",
        "'''\n",
        "def tensor_from_word(word, mapping, add_eos=False):\n",
        "    indices = [mapping[ch] for ch in word]\n",
        "    if add_eos:\n",
        "        indices.append(mapping[\"<eos>\"])\n",
        "    return torch.tensor(indices, dtype=torch.long, device=DEVICE).unsqueeze(1)\n",
        "\n",
        "'''\n",
        "for epoch in range(1, 6):\n",
        "    model.train()\n",
        "    epoch_loss = 0\n",
        "    train_correct = 0\n",
        "    train_total = 0\n",
        "\n",
        "    for src_word, trg_word in pairs:\n",
        "        src_tensor = tensor_from_word(src_word, src2idx)\n",
        "        trg_tensor = tensor_from_word(trg_word, trg2idx, add_eos=True)\n",
        "\n",
        "        optimizer.zero_grad()\n",
        "        output = model(src_tensor, trg_tensor)\n",
        "        output_dim = output.shape[-1]\n",
        "        loss = criterion(output.view(-1, output_dim), trg_tensor.view(-1))\n",
        "        loss.backward()\n",
        "        optimizer.step()\n",
        "        epoch_loss += loss.item()\n",
        "\n",
        "        # Training accuracy\n",
        "        pred_tokens = output.argmax(-1).view(-1)\n",
        "        true_tokens = trg_tensor.view(-1)\n",
        "        mask = true_tokens != trg2idx[\"<pad>\"]\n",
        "        correct = (pred_tokens == true_tokens) & mask\n",
        "        train_correct += correct.sum().item()\n",
        "        train_total += mask.sum().item()\n",
        "\n",
        "    # Validation\n",
        "    model.eval()\n",
        "    val_loss = 0\n",
        "    val_correct = 0\n",
        "    val_total = 0\n",
        "    with torch.no_grad():\n",
        "        for src_word, trg_word in val_pairs:\n",
        "            src_tensor = tensor_from_word(src_word, src2idx)\n",
        "            trg_tensor = tensor_from_word(trg_word, trg2idx, add_eos=True)\n",
        "            output = model(src_tensor, trg_tensor)\n",
        "            loss = criterion(output.view(-1, output.shape[-1]), trg_tensor.view(-1))\n",
        "            val_loss += loss.item()\n",
        "\n",
        "            pred_tokens = output.argmax(-1).view(-1)\n",
        "            true_tokens = trg_tensor.view(-1)\n",
        "            mask = true_tokens != trg2idx[\"<pad>\"]\n",
        "            correct = (pred_tokens == true_tokens) & mask\n",
        "            val_correct += correct.sum().item()\n",
        "            val_total += mask.sum().item()\n",
        "\n",
        "    train_acc = train_correct / train_total\n",
        "    val_acc = val_correct / val_total\n",
        "    print(f\"Epoch {epoch:3d} | Train Loss: {epoch_loss/len(pairs):.4f} | \"\n",
        "          f\"Train Acc: {train_acc:.4f} | Val Loss: {val_loss/len(val_pairs):.4f} | Val Acc: {val_acc:.4f}\")\n",
        "\n",
        "'''"
      ]
    },
    {
      "cell_type": "code",
      "execution_count": 12,
      "metadata": {
        "id": "6ov4_3xkZn4p"
      },
      "outputs": [],
      "source": [
        "def beam_search(model, src_tensor, beam_size=3, max_len=30):\n",
        "    model.eval()\n",
        "    with torch.no_grad():\n",
        "        encoder_outputs, hidden = model.encoder(src_tensor)\n",
        "\n",
        "        if isinstance(hidden, tuple):\n",
        "            h, c = hidden\n",
        "            hidden = (\n",
        "                h[:model.decoder.rnn.num_layers],\n",
        "                c[:model.decoder.rnn.num_layers],\n",
        "            )\n",
        "        else:\n",
        "            hidden = hidden[:model.decoder.rnn.num_layers]\n",
        "\n",
        "        sequences = [([model.sos_idx], 0.0, hidden)]\n",
        "\n",
        "        for _ in range(max_len):\n",
        "            all_candidates = []\n",
        "            for seq, score, h in sequences:\n",
        "                input_step = torch.tensor([[seq[-1]]], device=model.device)\n",
        "                output, h_new = model.decoder(input_step, h, encoder_outputs)\n",
        "                probs = torch.log_softmax(output, dim=1)\n",
        "                topk = torch.topk(probs, beam_size)\n",
        "\n",
        "                for i in range(beam_size):\n",
        "                    token = topk.indices[0][i].item()\n",
        "                    token_score = topk.values[0][i].item()\n",
        "                    new_seq = seq + [token]\n",
        "                    all_candidates.append((new_seq, score + token_score, h_new))\n",
        "\n",
        "            sequences = sorted(all_candidates, key=lambda x: x[1], reverse=True)[:beam_size]\n",
        "\n",
        "            if all(seq[-1] == trg2idx[\"<eos>\"] for seq, _, _ in sequences):\n",
        "                break\n",
        "\n",
        "        best_seq = sequences[0][0][1:]  # remove <sos>\n",
        "        return \"\".join([idx2trg[i] for i in best_seq if i != trg2idx[\"<eos>\"]])\n"
      ]
    },
    {
      "cell_type": "code",
      "execution_count": 13,
      "metadata": {
        "id": "UF8BqGB9Zn4q"
      },
      "outputs": [],
      "source": [
        "!pip install -q wandb\n",
        "import wandb\n"
      ]
    },
    {
      "cell_type": "code",
      "execution_count": 14,
      "metadata": {
        "colab": {
          "base_uri": "https://localhost:8080/"
        },
        "id": "c8Ogj7YbZn4q",
        "outputId": "60c97291-1441-4da5-d7ac-3993e17c78a9"
      },
      "outputs": [
        {
          "output_type": "stream",
          "name": "stderr",
          "text": [
            "\u001b[34m\u001b[1mwandb\u001b[0m: \u001b[33mWARNING\u001b[0m If you're specifying your api key in code, ensure this code is not shared publicly.\n",
            "\u001b[34m\u001b[1mwandb\u001b[0m: \u001b[33mWARNING\u001b[0m Consider setting the WANDB_API_KEY environment variable, or running `wandb login` from the command line.\n",
            "\u001b[34m\u001b[1mwandb\u001b[0m: No netrc file found, creating one.\n",
            "\u001b[34m\u001b[1mwandb\u001b[0m: Appending key for api.wandb.ai to your netrc file: /root/.netrc\n",
            "\u001b[34m\u001b[1mwandb\u001b[0m: Currently logged in as: \u001b[33mma24m003\u001b[0m (\u001b[33mma24m003-iit-madras\u001b[0m) to \u001b[32mhttps://api.wandb.ai\u001b[0m. Use \u001b[1m`wandb login --relogin`\u001b[0m to force relogin\n"
          ]
        },
        {
          "output_type": "execute_result",
          "data": {
            "text/plain": [
              "True"
            ]
          },
          "metadata": {},
          "execution_count": 14
        }
      ],
      "source": [
        "wandb.login(key='af7d7cf29d8954a13afb06c7a0d0c196c36ac51b')\n"
      ]
    },
    {
      "cell_type": "code",
      "execution_count": 15,
      "metadata": {
        "id": "Zsa0fdBMZn4q"
      },
      "outputs": [],
      "source": [
        "sweep_config = {\n",
        "    \"method\": \"bayes\",\n",
        "    \"metric\": {\"name\": \"val_acc\", \"goal\": \"maximize\"},\n",
        "    \"parameters\": {\n",
        "        \"emb_dim\": {\"values\": [16,32,64,256]},\n",
        "        \"hidden_dim\": {\"values\": [16,32,64,256]},\n",
        "        \"cell_type\": {\"values\": [\"RNN\",\"GRU\",\"LSTM\"]},\n",
        "        \"enc_layers\": {\"values\": [1]},\n",
        "        \"dec_layers\": {\"values\": [1]},\n",
        "        \"dropout\": {\"values\": [0,0.2, 0.3]},\n",
        "        \"beam_size\": {\"values\": [1, 3, 2]},\n",
        "        \"lr\": {\"values\": [0.001, 0.0005]}\n",
        "    }\n",
        "}\n"
      ]
    },
    {
      "cell_type": "code",
      "execution_count": 16,
      "metadata": {
        "id": "pNoO0fGWZn4r"
      },
      "outputs": [],
      "source": [
        "def train_model(config=None):\n",
        "    with wandb.init(config=config) as run:\n",
        "        config = wandb.config\n",
        "\n",
        "        run.name = f\"emb{config.emb_dim}_hid{config.hidden_dim}_{config.cell_type}_enc{config.enc_layers}_dec{config.dec_layers}_drop{int(config.dropout*100)}_beam{config.beam_size}_lr{config.lr}\"\n",
        "\n",
        "        encoder = Encoder(len(src2idx), config.emb_dim, config.hidden_dim, cell_type=config.cell_type, dropout=config.dropout)\n",
        "        decoder = AttnDecoder(len(trg2idx), config.emb_dim, config.hidden_dim, cell_type=config.cell_type, dropout=config.dropout)\n",
        "\n",
        "        model = AttnSeq2Seq(encoder, decoder, DEVICE, sos_idx=trg2idx[\"<sos>\"]).to(DEVICE)\n",
        "\n",
        "        optimizer = optim.Adam(model.parameters(), lr=config.lr)\n",
        "        criterion = nn.CrossEntropyLoss(ignore_index=trg2idx[\"<pad>\"])\n",
        "        beam_size = config.get(\"beam_size\", 3)\n",
        "\n",
        "        for epoch in range(1, 6):\n",
        "            model.train()\n",
        "            total_loss = 0\n",
        "            train_correct = 0\n",
        "            train_total = 0\n",
        "\n",
        "            for src_word, trg_word in pairs:\n",
        "                src_tensor = tensor_from_word(src_word, src2idx)\n",
        "                trg_tensor = tensor_from_word(trg_word, trg2idx, add_eos=True)\n",
        "\n",
        "                optimizer.zero_grad()\n",
        "                output = model(src_tensor, trg_tensor, teacher_forcing_ratio=config.get(\"teacher_forcing_ratio\", 0.5))\n",
        "                loss = criterion(output.view(-1, output.size(-1)), trg_tensor.view(-1))\n",
        "                loss.backward()\n",
        "                optimizer.step()\n",
        "                total_loss += loss.item()\n",
        "\n",
        "                pred_tokens = output.argmax(-1).view(-1)\n",
        "                true_tokens = trg_tensor.view(-1)\n",
        "                mask = true_tokens != trg2idx[\"<pad>\"]\n",
        "                correct = (pred_tokens == true_tokens) & mask\n",
        "                train_correct += correct.sum().item()\n",
        "                train_total += mask.sum().item()\n",
        "\n",
        "            model.eval()\n",
        "            val_loss = 0\n",
        "            val_correct = 0\n",
        "            val_total = 0\n",
        "            exact_match_count = 0\n",
        "\n",
        "            with torch.no_grad():\n",
        "                for src_word, trg_word in val_pairs:\n",
        "                    src_tensor = tensor_from_word(src_word, src2idx)\n",
        "                    trg_tensor = tensor_from_word(trg_word, trg2idx, add_eos=True)\n",
        "\n",
        "                    output = model(src_tensor, trg_tensor, teacher_forcing_ratio=0.0)\n",
        "                    loss = criterion(output.view(-1, output.size(-1)), trg_tensor.view(-1))\n",
        "                    val_loss += loss.item()\n",
        "\n",
        "                    pred_tokens = output.argmax(-1).view(-1)\n",
        "                    true_tokens = trg_tensor.view(-1)\n",
        "                    mask = true_tokens != trg2idx[\"<pad>\"]\n",
        "                    correct = (pred_tokens == true_tokens) & mask\n",
        "                    val_correct += correct.sum().item()\n",
        "                    val_total += mask.sum().item()\n",
        "\n",
        "                    # Beam search for exact match accuracy\n",
        "                    pred_str = beam_search(model, src_tensor, beam_size=beam_size)\n",
        "                    if pred_str == trg_word:\n",
        "                        exact_match_count += 1\n",
        "\n",
        "            train_acc = train_correct / train_total\n",
        "            val_acc = val_correct / val_total\n",
        "            exact_match = exact_match_count / len(val_pairs)\n",
        "\n",
        "            print(f\"Epoch {epoch:2d} | \"\n",
        "                  f\"Train Loss: {total_loss / len(pairs):.4f} | \"\n",
        "                  f\"Train Acc: {train_acc:.4f} | \"\n",
        "                  f\"Val Loss: {val_loss / len(val_pairs):.4f} | \"\n",
        "                  f\"Val Acc: {val_acc:.4f} | \"\n",
        "                  f\"Val Exact Match: {exact_match:.4f} | \"\n",
        "                  f\"Beam Size: {beam_size}\")\n",
        "\n",
        "\n",
        "            wandb.log({\n",
        "                \"epoch\": epoch,\n",
        "                \"train_loss\": total_loss / len(pairs),\n",
        "                \"val_loss\": val_loss / len(val_pairs),\n",
        "                \"train_accuracy\": train_correct / train_total,\n",
        "                \"val_accuracy\": val_correct / val_total,\n",
        "                \"val_exact_match\": exact_match_count / len(val_pairs),\n",
        "                \"beam_size\": beam_size\n",
        "            })\n"
      ]
    },
    {
      "cell_type": "code",
      "execution_count": null,
      "metadata": {
        "colab": {
          "base_uri": "https://localhost:8080/",
          "height": 329
        },
        "id": "sXOhFEPBZn4r",
        "outputId": "e322747b-5fd2-497e-f313-81f61c43c4d6"
      },
      "outputs": [
        {
          "output_type": "stream",
          "name": "stdout",
          "text": [
            "Create sweep with ID: 92ukg1j1\n",
            "Sweep URL: https://wandb.ai/ma24m003-iit-madras/transliteration-with-attn-sweep/sweeps/92ukg1j1\n"
          ]
        },
        {
          "output_type": "stream",
          "name": "stderr",
          "text": [
            "\u001b[34m\u001b[1mwandb\u001b[0m: Agent Starting Run: cq0hd1ec with config:\n",
            "\u001b[34m\u001b[1mwandb\u001b[0m: \tbeam_size: 3\n",
            "\u001b[34m\u001b[1mwandb\u001b[0m: \tcell_type: LSTM\n",
            "\u001b[34m\u001b[1mwandb\u001b[0m: \tdec_layers: 1\n",
            "\u001b[34m\u001b[1mwandb\u001b[0m: \tdropout: 0.3\n",
            "\u001b[34m\u001b[1mwandb\u001b[0m: \temb_dim: 64\n",
            "\u001b[34m\u001b[1mwandb\u001b[0m: \tenc_layers: 1\n",
            "\u001b[34m\u001b[1mwandb\u001b[0m: \thidden_dim: 256\n",
            "\u001b[34m\u001b[1mwandb\u001b[0m: \tlr: 0.0005\n"
          ]
        },
        {
          "output_type": "display_data",
          "data": {
            "text/plain": [
              "<IPython.core.display.HTML object>"
            ],
            "text/html": [
              "Tracking run with wandb version 0.19.11"
            ]
          },
          "metadata": {}
        },
        {
          "output_type": "display_data",
          "data": {
            "text/plain": [
              "<IPython.core.display.HTML object>"
            ],
            "text/html": [
              "Run data is saved locally in <code>/content/wandb/run-20250516_113959-cq0hd1ec</code>"
            ]
          },
          "metadata": {}
        },
        {
          "output_type": "display_data",
          "data": {
            "text/plain": [
              "<IPython.core.display.HTML object>"
            ],
            "text/html": [
              "Syncing run <strong><a href='https://wandb.ai/ma24m003-iit-madras/transliteration-with-attn-sweep/runs/cq0hd1ec' target=\"_blank\">noble-sweep-1</a></strong> to <a href='https://wandb.ai/ma24m003-iit-madras/transliteration-with-attn-sweep' target=\"_blank\">Weights & Biases</a> (<a href='https://wandb.me/developer-guide' target=\"_blank\">docs</a>)<br>Sweep page: <a href='https://wandb.ai/ma24m003-iit-madras/transliteration-with-attn-sweep/sweeps/92ukg1j1' target=\"_blank\">https://wandb.ai/ma24m003-iit-madras/transliteration-with-attn-sweep/sweeps/92ukg1j1</a>"
            ]
          },
          "metadata": {}
        },
        {
          "output_type": "display_data",
          "data": {
            "text/plain": [
              "<IPython.core.display.HTML object>"
            ],
            "text/html": [
              " View project at <a href='https://wandb.ai/ma24m003-iit-madras/transliteration-with-attn-sweep' target=\"_blank\">https://wandb.ai/ma24m003-iit-madras/transliteration-with-attn-sweep</a>"
            ]
          },
          "metadata": {}
        },
        {
          "output_type": "display_data",
          "data": {
            "text/plain": [
              "<IPython.core.display.HTML object>"
            ],
            "text/html": [
              " View sweep at <a href='https://wandb.ai/ma24m003-iit-madras/transliteration-with-attn-sweep/sweeps/92ukg1j1' target=\"_blank\">https://wandb.ai/ma24m003-iit-madras/transliteration-with-attn-sweep/sweeps/92ukg1j1</a>"
            ]
          },
          "metadata": {}
        },
        {
          "output_type": "display_data",
          "data": {
            "text/plain": [
              "<IPython.core.display.HTML object>"
            ],
            "text/html": [
              " View run at <a href='https://wandb.ai/ma24m003-iit-madras/transliteration-with-attn-sweep/runs/cq0hd1ec' target=\"_blank\">https://wandb.ai/ma24m003-iit-madras/transliteration-with-attn-sweep/runs/cq0hd1ec</a>"
            ]
          },
          "metadata": {}
        }
      ],
      "source": [
        "\n",
        "sweep_id = wandb.sweep(sweep_config, project=\"transliteration-with-attn-sweep\")\n",
        "wandb.agent(sweep_id, function=train_model, count=5)\n",
        "wandb.finish()\n"
      ]
    },
    {
      "cell_type": "code",
      "execution_count": null,
      "metadata": {
        "id": "l7tjaeG0Zn4r"
      },
      "outputs": [],
      "source": [
        "best_config = {\n",
        "    \"emb_dim\": 32,\n",
        "    \"hidden_dim\": 256,\n",
        "    \"cell_type\": \"LSTM\",\n",
        "    \"enc_layers\": 1,\n",
        "    \"dec_layers\": 1,\n",
        "    \"dropout\": 0,\n",
        "    \"beam_size\": 2,\n",
        "    \"lr\": 0.0005}\n"
      ]
    },
    {
      "cell_type": "code",
      "execution_count": null,
      "metadata": {
        "id": "k08qee6lZn4s"
      },
      "outputs": [],
      "source": [
        "def best_train_model(config=None):\n",
        "    with wandb.init(config=config):\n",
        "        config = wandb.config\n",
        "\n",
        "        encoder = Encoder(len(src2idx), config.emb_dim, config.hidden_dim,\n",
        "                          config.cell_type, config.dropout)\n",
        "        decoder = AttnDecoder(len(trg2idx), config.emb_dim, config.hidden_dim,\n",
        "                      config.cell_type, dropout=config.dropout)\n",
        "        model = AttnSeq2Seq(encoder, decoder, DEVICE, sos_idx=trg2idx[\"<sos>\"]).to(DEVICE)\n",
        "\n",
        "        optimizer = optim.Adam(model.parameters(), lr=config.lr)\n",
        "        criterion = nn.CrossEntropyLoss(ignore_index=trg2idx[\"<pad>\"])\n",
        "        beam_size = config.get(\"beam_size\", 3)\n",
        "\n",
        "        for epoch in range(1, 6):\n",
        "            model.train()\n",
        "            total_loss = 0\n",
        "            train_correct = 0\n",
        "            train_total = 0\n",
        "\n",
        "            for src_word, trg_word in pairs:\n",
        "                src_tensor = tensor_from_word(src_word, src2idx)\n",
        "                trg_tensor = tensor_from_word(trg_word, trg2idx, add_eos=True)\n",
        "\n",
        "                optimizer.zero_grad()\n",
        "                output = model(src_tensor, trg_tensor, teacher_forcing_ratio=config.get(\"teacher_forcing_ratio\", 0.5))\n",
        "                loss = criterion(output.view(-1, output.size(-1)), trg_tensor.view(-1))\n",
        "                loss.backward()\n",
        "                optimizer.step()\n",
        "                total_loss += loss.item()\n",
        "\n",
        "                pred_tokens = output.argmax(-1).view(-1)\n",
        "                true_tokens = trg_tensor.view(-1)\n",
        "                mask = true_tokens != trg2idx[\"<pad>\"]\n",
        "                correct = (pred_tokens == true_tokens) & mask\n",
        "                train_correct += correct.sum().item()\n",
        "                train_total += mask.sum().item()\n",
        "\n",
        "            model.eval()\n",
        "            val_loss = 0\n",
        "            val_correct = 0\n",
        "            val_total = 0\n",
        "            exact_match_count = 0\n",
        "\n",
        "            with torch.no_grad():\n",
        "                for src_word, trg_word in val_pairs:\n",
        "                    src_tensor = tensor_from_word(src_word, src2idx)\n",
        "                    trg_tensor = tensor_from_word(trg_word, trg2idx, add_eos=True)\n",
        "\n",
        "                    output = model(src_tensor, trg_tensor, teacher_forcing_ratio=0.0)\n",
        "                    loss = criterion(output.view(-1, output.size(-1)), trg_tensor.view(-1))\n",
        "                    val_loss += loss.item()\n",
        "\n",
        "                    pred_tokens = output.argmax(-1).view(-1)\n",
        "                    true_tokens = trg_tensor.view(-1)\n",
        "                    mask = true_tokens != trg2idx[\"<pad>\"]\n",
        "                    correct = (pred_tokens == true_tokens) & mask\n",
        "                    val_correct += correct.sum().item()\n",
        "                    val_total += mask.sum().item()\n",
        "\n",
        "                    # Beam search for exact match accuracy\n",
        "                    pred_str = beam_search(model, src_tensor, beam_size=beam_size)\n",
        "                    if pred_str == trg_word:\n",
        "                        exact_match_count += 1\n",
        "\n",
        "            train_acc = train_correct / train_total\n",
        "            val_acc = val_correct / val_total\n",
        "            exact_match = exact_match_count / len(val_pairs)\n",
        "\n",
        "            print(f\"Epoch {epoch:2d} | \"\n",
        "                  f\"Train Loss: {total_loss / len(pairs):.4f} | \"\n",
        "                  f\"Train Acc: {train_acc:.4f} | \"\n",
        "                  f\"Val Loss: {val_loss / len(val_pairs):.4f} | \"\n",
        "                  f\"Val Acc: {val_acc:.4f} | \"\n",
        "                  f\"Val Exact Match: {exact_match:.4f} | \"\n",
        "                  f\"Beam Size: {beam_size}\")\n",
        "\n",
        "            wandb.log({\n",
        "                \"epoch\": epoch,\n",
        "                \"train_loss\": total_loss / len(pairs),\n",
        "                \"val_loss\": val_loss / len(val_pairs),\n",
        "                \"train_accuracy\": train_acc,\n",
        "                \"val_accuracy\": val_acc,\n",
        "                \"val_exact_match\": exact_match,\n",
        "                \"beam_size\": beam_size\n",
        "            })\n",
        "\n",
        "        return model\n"
      ]
    },
    {
      "cell_type": "code",
      "execution_count": null,
      "metadata": {
        "id": "8md3ANqPZn4s"
      },
      "outputs": [],
      "source": [
        "model = best_train_model(config=best_config)\n"
      ]
    },
    {
      "cell_type": "code",
      "execution_count": null,
      "metadata": {
        "id": "Q326awEgZn4t"
      },
      "outputs": [],
      "source": [
        "\n",
        "test_df = pd.read_csv(\"/kaggle/input/telugu-lexicon/te.translit.sampled.test.tsv\", sep=\"\\t\", header=None)\n",
        "test_df.columns = [\"target\", \"source\", \"label\"]  # adjust if only 2 columns\n",
        "test_df = test_df.dropna(subset=[\"source\", \"target\"])\n",
        "test_df[\"source\"] = test_df[\"source\"].astype(str)\n",
        "test_df[\"target\"] = test_df[\"target\"].astype(str)\n",
        "test_pairs = list(zip(test_df[\"source\"], test_df[\"target\"]))\n"
      ]
    },
    {
      "cell_type": "code",
      "execution_count": null,
      "metadata": {
        "id": "-AgN6rotZn4u"
      },
      "outputs": [],
      "source": [
        "print(len(test_pairs))"
      ]
    },
    {
      "cell_type": "code",
      "execution_count": null,
      "metadata": {
        "id": "E1OwjwrYZn4u"
      },
      "outputs": [],
      "source": [
        "model.eval()\n",
        "test_correct = 0\n",
        "test_total = 0\n",
        "exact_match_count = 0\n",
        "beam_size = best_config[\"beam_size\"]\n",
        "\n",
        "with torch.no_grad():\n",
        "    for src_word, trg_word in test_pairs:\n",
        "        src_tensor = tensor_from_word(src_word, src2idx)\n",
        "        trg_tensor = tensor_from_word(trg_word, trg2idx, add_eos=True)\n",
        "\n",
        "        output = model(src_tensor, trg_tensor, teacher_forcing_ratio=0.0)\n",
        "\n",
        "        # Character-level accuracy\n",
        "        pred_tokens = output.argmax(-1).view(-1)\n",
        "        true_tokens = trg_tensor.view(-1)\n",
        "        mask = true_tokens != trg2idx[\"<pad>\"]\n",
        "        correct = (pred_tokens == true_tokens) & mask\n",
        "        test_correct += correct.sum().item()\n",
        "        test_total += mask.sum().item()\n",
        "\n",
        "        # Word-level exact match via beam search\n",
        "        pred_str = beam_search(model, src_tensor, beam_size=beam_size)\n",
        "        if pred_str == trg_word:\n",
        "            exact_match_count += 1\n",
        "\n",
        "test_char_acc = test_correct / test_total\n",
        "test_exact_match = exact_match_count / len(test_pairs)\n",
        "\n",
        "print(f\"Test Char Accuracy: {test_char_acc:.4f}\")\n",
        "print(f\"Test Exact Match:  {test_exact_match:.4f}\")\n"
      ]
    },
    {
      "cell_type": "code",
      "execution_count": null,
      "metadata": {
        "id": "-3KO031SZn4v"
      },
      "outputs": [],
      "source": [
        "from tabulate import tabulate\n",
        "\n",
        "def display_predictions(model, test_pairs, beam_size=3, max_samples=10):\n",
        "    model.eval()\n",
        "    table = []\n",
        "\n",
        "    with torch.no_grad():\n",
        "        sampled_pairs = random.sample(test_pairs, k=min(max_samples, len(test_pairs)))\n",
        "        for src_word, trg_word in sampled_pairs:\n",
        "            src_tensor = tensor_from_word(src_word, src2idx)\n",
        "            pred_str = beam_search(model, src_tensor, beam_size=beam_size)\n",
        "            match = \"✅\" if pred_str == trg_word else \"❌\"\n",
        "            table.append([src_word, pred_str, trg_word, match])\n",
        "\n",
        "    headers = [\"Input (Latin)\", \"Predicted (Telugu)\", \"Target (Telugu)\", \"Match\"]\n",
        "    print(tabulate(table, headers=headers, tablefmt=\"fancy_grid\"))\n"
      ]
    },
    {
      "cell_type": "code",
      "execution_count": null,
      "metadata": {
        "id": "1atGjAE2Zn4v"
      },
      "outputs": [],
      "source": [
        "display_predictions(model, test_pairs, beam_size=best_config[\"beam_size\"], max_samples=10)\n"
      ]
    },
    {
      "cell_type": "code",
      "execution_count": null,
      "metadata": {
        "id": "LjfIeXygZn4v"
      },
      "outputs": [],
      "source": [
        "def decode_with_attention(model, src_word, src2idx, trg2idx, idx2trg, max_len=30):\n",
        "    model.eval()\n",
        "    with torch.no_grad():\n",
        "        src_tensor = tensor_from_word(src_word, src2idx)\n",
        "        encoder_outputs, hidden = model.encoder(src_tensor)\n",
        "        input_step = torch.tensor([[trg2idx[\"<sos>\"]]], device=DEVICE)\n",
        "\n",
        "        output_tokens = []\n",
        "        attention_weights = []\n",
        "\n",
        "        for _ in range(max_len):\n",
        "            # manually invoke attention\n",
        "            attn_weights = model.decoder.attention(hidden[0] if isinstance(hidden, tuple) else hidden, encoder_outputs)\n",
        "            attn_weights = attn_weights.permute(1, 0)  # [1, src_len]\n",
        "            context = torch.bmm(attn_weights.unsqueeze(1), encoder_outputs.permute(1, 0, 2))  # [1, 1, hidden_dim]\n",
        "            embedded = model.decoder.embedding(input_step)\n",
        "            rnn_input = torch.cat((embedded, context), dim=2)\n",
        "\n",
        "            output, hidden = model.decoder.rnn(rnn_input, hidden)\n",
        "            output = output.squeeze(0)\n",
        "            context = context.squeeze(0)\n",
        "            pred = model.decoder.fc_out(torch.cat((output, context), dim=1))  # [1, output_dim]\n",
        "\n",
        "            top1 = pred.argmax(1).item()\n",
        "            output_tokens.append(top1)\n",
        "            attention_weights.append(attn_weights.squeeze(0).cpu().numpy())\n",
        "\n",
        "            if idx2trg[top1] == \"<eos>\":\n",
        "                break\n",
        "\n",
        "            input_step = torch.tensor([[top1]], device=DEVICE)\n",
        "\n",
        "        return output_tokens, np.stack(attention_weights)  # [output_len], [output_len x src_len]\n"
      ]
    },
    {
      "cell_type": "code",
      "execution_count": null,
      "metadata": {
        "id": "zthyMWQKZn4w"
      },
      "outputs": [],
      "source": [
        "import matplotlib.pyplot as plt\n",
        "import seaborn as sns\n",
        "import numpy as np\n",
        "import random\n",
        "\n",
        "def plot_attention_grid(model, test_pairs, src2idx, trg2idx, idx2src, idx2trg, max_samples=9):\n",
        "    fig, axes = plt.subplots(3, 3, figsize=(15, 12))\n",
        "    fig.suptitle(\"Attention Heatmaps\", fontsize=16)\n",
        "\n",
        "    sampled = random.sample(test_pairs, max_samples)\n",
        "\n",
        "    for ax, (src_word, trg_word) in zip(axes.flat, sampled):\n",
        "        pred_indices, attn = decode_with_attention(model, src_word, src2idx, trg2idx, idx2trg)\n",
        "        src_labels = list(src_word)\n",
        "        trg_labels = [idx2trg[i] for i in pred_indices]\n",
        "\n",
        "\n",
        "        sns.heatmap(attn, xticklabels=src_labels, yticklabels=trg_labels, ax=ax, cbar=False, cmap=\"viridis\")\n",
        "        ax.set_xlabel(\"Input\")\n",
        "        ax.set_ylabel(\"Output\")\n",
        "        ax.set_title(f'\"{src_word}\" → \"{trg_word}\"')\n",
        "\n",
        "    plt.tight_layout()\n",
        "    plt.show()\n"
      ]
    },
    {
      "cell_type": "code",
      "execution_count": null,
      "metadata": {
        "id": "-j8gPW2oZn4w"
      },
      "outputs": [],
      "source": [
        "import matplotlib.pyplot as plt\n",
        "import matplotlib as mpl\n",
        "\n",
        "mpl.rcParams['axes.unicode_minus'] = False\n",
        "plt.rcParams['font.family'] = 'Arial Unicode MS'  # may work on Colab, Kaggle, macOS\n"
      ]
    },
    {
      "cell_type": "code",
      "execution_count": null,
      "metadata": {
        "id": "6QotoUZxZn4w"
      },
      "outputs": [],
      "source": [
        "plt.rcParams['font.family'] = 'sans-serif'\n",
        "plt.rcParams['font.sans-serif'] = ['Noto Sans', 'Arial Unicode MS', 'FreeSans', 'Lohit Telugu']\n"
      ]
    },
    {
      "cell_type": "code",
      "execution_count": null,
      "metadata": {
        "collapsed": true,
        "id": "NwOwR-W5Zn4w"
      },
      "outputs": [],
      "source": [
        "idx2src = {i: ch for ch, i in src2idx.items()}\n",
        "idx2trg = {i: ch for ch, i in trg2idx.items()}\n",
        "\n",
        "\n",
        "plot_attention_grid(model, test_pairs, src2idx, trg2idx, idx2src, idx2trg)\n"
      ]
    },
    {
      "cell_type": "code",
      "execution_count": null,
      "metadata": {
        "id": "qNIeiHLnZn4x"
      },
      "outputs": [],
      "source": [
        "pred_tokens, attn_matrix = decode_with_attention(model, src_word, src2idx, trg2idx, idx2trg)\n"
      ]
    },
    {
      "cell_type": "code",
      "execution_count": null,
      "metadata": {
        "id": "e62WcBycZn4x"
      },
      "outputs": [],
      "source": [
        "import seaborn as sns\n",
        "\n",
        "def plot_attention_map(attn, src_word, pred_tokens, idx2trg):\n",
        "    src_labels = list(src_word)\n",
        "    trg_labels = [idx2trg[i] for i in pred_tokens]\n",
        "\n",
        "    plt.figure(figsize=(10, 8))\n",
        "    sns.heatmap(attn, xticklabels=src_labels, yticklabels=trg_labels, cmap=\"viridis\", cbar=True)\n",
        "    plt.xlabel(\"Input Sequence\")\n",
        "    plt.ylabel(\"Decoded Output\")\n",
        "    plt.title(\"Attention Heatmap\")\n",
        "    plt.show()\n"
      ]
    },
    {
      "cell_type": "code",
      "execution_count": null,
      "metadata": {
        "id": "_bq0GVVHZn4y"
      },
      "outputs": [],
      "source": [
        "plot_attention_map(attn_matrix, src_word, pred_tokens, idx2trg)\n"
      ]
    },
    {
      "cell_type": "code",
      "execution_count": null,
      "metadata": {
        "id": "FhfrwuO9Zn4y"
      },
      "outputs": [],
      "source": []
    }
  ],
  "metadata": {
    "accelerator": "GPU",
    "colab": {
      "gpuType": "T4",
      "provenance": [],
      "include_colab_link": true
    },
    "kaggle": {
      "accelerator": "nvidiaTeslaT4",
      "dataSources": [
        {
          "datasetId": 7382030,
          "sourceId": 11759092,
          "sourceType": "datasetVersion"
        }
      ],
      "dockerImageVersionId": 31011,
      "isGpuEnabled": true,
      "isInternetEnabled": true,
      "language": "python",
      "sourceType": "notebook"
    },
    "kernelspec": {
      "display_name": "Python 3",
      "name": "python3"
    },
    "language_info": {
      "codemirror_mode": {
        "name": "ipython",
        "version": 3
      },
      "file_extension": ".py",
      "mimetype": "text/x-python",
      "name": "python",
      "nbconvert_exporter": "python",
      "pygments_lexer": "ipython3",
      "version": "3.11.11"
    }
  },
  "nbformat": 4,
  "nbformat_minor": 0
}